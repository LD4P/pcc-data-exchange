{
 "cells": [
  {
   "cell_type": "code",
   "execution_count": 1,
   "id": "24d835f6-b0bc-4a21-a33d-4dc379ec46a3",
   "metadata": {},
   "outputs": [],
   "source": [
    "import json\n",
    "import rdflib\n",
    "import pyshacl"
   ]
  },
  {
   "cell_type": "markdown",
   "id": "3befbc27-f1ce-4eca-93ac-8472e16b22b2",
   "metadata": {},
   "source": [
    "# Initial BIBFRAME Exchange SHACL Validation"
   ]
  },
  {
   "cell_type": "code",
   "execution_count": 2,
   "id": "dd051b28-7c51-46c5-91a8-4e5261935f40",
   "metadata": {},
   "outputs": [],
   "source": [
    "bf_rules = \"\"\"@prefix sh:   <http://www.w3.org/ns/shacl#> .\n",
    "@prefix bf: <http://id.loc.gov/ontologies/bibframe/> .\n",
    "@prefix bflc: <http://id.loc.gov/ontologies/bflc/> .\n",
    "@prefix rdf: <http://www.w3.org/1999/02/22-rdf-syntax-ns#> .\n",
    "@prefix rdfs: <http://www.w3.org/2000/01/rdf-schema#> .\n",
    "@prefix xsd:    <http://www.w3.org/2001/XMLSchema#> .\n",
    "\n",
    "bf:WorkShape \n",
    "  a sh:NodeShape ;\n",
    "  sh:targetClass bf:Work ;\n",
    "  sh:property [\n",
    "    sh:path bf:title ;\n",
    "    sh:class bf:Title ;\n",
    "    sh:node bf:TitleShape ;\n",
    "    sh:min 1 ;\n",
    "  ] ;\n",
    "  sh:property [\n",
    "    a sh:Property ;\n",
    "    sh:path bf:adminMetadata ;\n",
    "    sh:class bf:AdminMetadata ;\n",
    "    sh:node bf:AdminMetadataShape ;\n",
    "    sh:min 1 ;\n",
    "  ] .\n",
    "\n",
    "bf:InstanceShape \n",
    "  a sh:NodeShape ;\n",
    "  sh:targetClass bf:Instance ;\n",
    "  sh:property [\n",
    "    sh:path bf:identifiedBy ;\n",
    "    sh:node bf:IdentifiedByShape ;\n",
    "  ] ;\n",
    "  sh:property [\n",
    "    sh:path bf:issuance ;\n",
    "    sh:node bf:IssuanceShape ;\n",
    "  ] ;\n",
    "  sh:property [\n",
    "    sh:path bf:title ;\n",
    "    sh:node bf:TitleShape ;\n",
    "  ] .\n",
    "  \n",
    "bf:PrintInstanceShape\n",
    "  a bf:InstanceShape ;\n",
    "  sh:targetClass bf:Print .\n",
    "  \n",
    "bf:AdminMetadataShape\n",
    "  a sh:NodeShape ;\n",
    "  sh:targetClass bf:AdminMetadata ;\n",
    "  sh:property [\n",
    "    sh:path bf:changeDate ;\n",
    "    sh:datatype xsd:dateTime ;\n",
    "    sh:min 1;\n",
    "  ] ;\n",
    "  sh:property [\n",
    "    sh:path bf:creationDate ;\n",
    "    sh:datatype xsd:date ;\n",
    "    sh:min 1;\n",
    "  ] ;\n",
    "  sh:property [\n",
    "    sh:path bflc:catalogerId ;\n",
    "  ] ;\n",
    "  sh:property [\n",
    "    sh:path bf:descriptionLanguage ;\n",
    "  ] .\n",
    "  \n",
    "bf:IssuanceShape\n",
    "  a sh:NodeShape ;\n",
    "  sh:targetClass bf:Issuance ;\n",
    "  sh:property [\n",
    "    sh:path rdfs:label ;\n",
    "  ] .\n",
    "  \n",
    "bf:TitleShape\n",
    "    a sh:NodeShape ;\n",
    "    sh:targetClass bf:Title ;\n",
    "    sh:nodeKind sh:BlankNodeOrIRI ;\n",
    "    sh:property [\n",
    "        sh:path rdfs:label ;\n",
    "    ] ;\n",
    "    sh:property [\n",
    "        sh:path bf:mainTitle ;\n",
    "    ] .\n",
    "    \n",
    "bf:IdentifiedByShape \n",
    "   a sh:NodeShape ;\n",
    "   sh:targetClass bf:Isbn;\n",
    "   sh:targetClass bf:Lccn;\n",
    "   sh:targetClass bf:Local;\n",
    "   sh:property [\n",
    "     sh:path rdf:value ;\n",
    "     sh:min 1 ;\n",
    "   ] .\n",
    "\"\"\""
   ]
  },
  {
   "cell_type": "code",
   "execution_count": 3,
   "id": "dce6b130-2aca-40f4-ba2c-2ba8e94de91f",
   "metadata": {},
   "outputs": [
    {
     "data": {
      "text/plain": [
       "<Graph identifier=Na47ef1684e894a6dbbf7fcf87bb0245c (<class 'rdflib.graph.Graph'>)>"
      ]
     },
     "execution_count": 3,
     "metadata": {},
     "output_type": "execute_result"
    }
   ],
   "source": [
    "graph1 = rdflib.Graph()\n",
    "graph1.parse('1151533687.rdf', format='xml')"
   ]
  },
  {
   "cell_type": "code",
   "execution_count": 4,
   "id": "f8a74cd7-76d7-49e0-aede-99dbe4245a77",
   "metadata": {
    "tags": []
   },
   "outputs": [
    {
     "name": "stdout",
     "output_type": "stream",
     "text": [
      "@prefix bf: <http://id.loc.gov/ontologies/bibframe/> .\n",
      "@prefix bflc: <http://id.loc.gov/ontologies/bflc/> .\n",
      "@prefix rdf: <http://www.w3.org/1999/02/22-rdf-syntax-ns#> .\n",
      "@prefix rdfs: <http://www.w3.org/2000/01/rdf-schema#> .\n",
      "@prefix sinopia: <http://sinopia.io/vocabulary/> .\n",
      "\n",
      "<http://id.loc.gov/authorities/names/n2015013337> a bf:Agent,\n",
      "        bf:Person ;\n",
      "    rdfs:label \"Taylor, Charlotte, 1978-\"@en .\n",
      "\n",
      "<http://id.loc.gov/authorities/names/n80126293> rdfs:label \"New York (State)\"@en .\n",
      "\n",
      "<http://id.loc.gov/authorities/names/no2016167829> a bf:Agent ;\n",
      "    rdfs:label \"Enslow Publishing\"@en .\n",
      "\n",
      "<http://id.loc.gov/authorities/names/no2021102022> rdfs:label \"Taylor, Charlotte, 1978- Dig deep into fossils\"@en .\n",
      "\n",
      "<http://id.loc.gov/authorities/subjects/sh2008102205> rdfs:label \"Dinosaurs--Juvenile literature\"@en .\n",
      "\n",
      "<http://id.loc.gov/authorities/subjects/sh2008104067> rdfs:label \"Fossils--Juvenile literature\"@en .\n",
      "\n",
      "<http://id.loc.gov/authorities/subjects/sh2010110818> rdfs:label \"Reptiles, Fossil--Juvenile literature\"@en .\n",
      "\n",
      "<http://id.loc.gov/vocabulary/carriers/nc> rdfs:label \"volume\"@en .\n",
      "\n",
      "<http://id.loc.gov/vocabulary/classSchemes/ddc23> rdfs:label \"Dewey decimal classification and relative index (Dublin, Ohio: OCLC Online Computer Center), Edition 23\" .\n",
      "\n",
      "<http://id.loc.gov/vocabulary/languages/eng> rdfs:label \"English\" .\n",
      "\n",
      "<http://id.loc.gov/vocabulary/maudience/juv> rdfs:label \"Juvenile\"@en .\n",
      "\n",
      "<http://id.loc.gov/vocabulary/mcolor/mul> rdfs:label \"color\" .\n",
      "\n",
      "<http://id.loc.gov/vocabulary/millus/ill> rdfs:label \"Illustrations\" .\n",
      "\n",
      "<http://id.loc.gov/vocabulary/mstatus/cancinv> rdfs:label \"canceled or invalid\" .\n",
      "\n",
      "<http://id.loc.gov/vocabulary/relators/aut> rdfs:label \"Author\" .\n",
      "\n",
      "<https://api.stage.sinopia.io/resource/181d118d-cce3-4506-811c-2e4a1eaf50b8> a bf:Text,\n",
      "        bf:Work ;\n",
      "    rdfs:label \"Digging up dinosaur fossils \"@en ;\n",
      "    bf:adminMetadata [ a bf:AdminMetadata ;\n",
      "            bflc:catalogerId \"MFG\" ;\n",
      "            bflc:encodingLevel <http://id.loc.gov/vocabulary/menclvl/8> ;\n",
      "            bf:creationDate \"2022-04-15\" ;\n",
      "            bf:descriptionAuthentication <https://id.loc.gov/vocabulary/marcauthen/pcc> ;\n",
      "            bf:descriptionConventions <https://id.loc.gov/vocabulary/descriptionConventions/rda> ;\n",
      "            bf:descriptionLanguage <https://id.loc.gov/vocabulary/languages/eng> ;\n",
      "            bf:source <http://id.loc.gov/vocabulary/organizations/cst> ] ;\n",
      "    bf:classification [ a bf:ClassificationDdc ;\n",
      "            bf:classificationPortion \"567.9\"@en ;\n",
      "            bf:edition <http://id.loc.gov/vocabulary/classSchemes/ddc23> ],\n",
      "        [ a bf:ClassificationLcc ;\n",
      "            bf:classificationPortion \"QE861.5 \"@en ;\n",
      "            bf:itemPortion \".T395 2021\"@en ] ;\n",
      "    bf:colorContent <http://id.loc.gov/vocabulary/mcolor/mul> ;\n",
      "    bf:content <https://id.loc.gov/vocabulary/contentTypes/txt> ;\n",
      "    bf:contribution [ a bflc:PrimaryContribution ;\n",
      "            bf:agent <http://id.loc.gov/authorities/names/n2015013337> ;\n",
      "            bf:role <http://id.loc.gov/vocabulary/relators/aut> ] ;\n",
      "    bf:hasInstance <https://api.stage.sinopia.io/resource/2559d178-6c72-47d1-9042-c547e1b4e0e6> ;\n",
      "    bf:hasSeries <http://id.loc.gov/authorities/names/no2021102022> ;\n",
      "    bf:illustrativeContent <http://id.loc.gov/vocabulary/millus/ill> ;\n",
      "    bf:intendedAudience <http://id.loc.gov/vocabulary/maudience/juv> ;\n",
      "    bf:language <http://id.loc.gov/vocabulary/languages/eng> ;\n",
      "    bf:originDate \"2022\"@en ;\n",
      "    bf:subject <http://id.loc.gov/authorities/subjects/sh2008102205>,\n",
      "        <http://id.loc.gov/authorities/subjects/sh2008104067>,\n",
      "        <http://id.loc.gov/authorities/subjects/sh2010110818> ;\n",
      "    bf:summary [ a bf:Summary ;\n",
      "            rdfs:label \"\\\"Dinosaurs roamed Earth between 230 million and 65 million years ago. That's not only long before the present day, but also long before Homo sapiens were around at all! Without fossils, we might not know anything about these fierce and interesting prehistoric animals. In this volume, readers learn how fossils form, the different kinds of dinosaur fossils scientists study, and just what we've learned from these cool fossil finds. Up-close photographs aid readers' understanding while fact boxes add more context to key science concepts\\\"\"@en ] ;\n",
      "    bf:tableOfContents [ a bf:TableOfContents ;\n",
      "            rdfs:label \"When dinosaurs ruled -- A fossil forms -- Dinosaur fossils -- Whose bones? -- A name at last -- More discoveries -- Paleontologists at work -- A fossil's age -- Time to eat! -- What did dinosaurs do? -- Still digging.\"@en ] ;\n",
      "    bf:title [ a bf:Title ;\n",
      "            bf:mainTitle \"Digging up dinosaur fossils \"@en ] ;\n",
      "    sinopia:hasResourceTemplate \"pcc:bf2:Monograph:Work\" .\n",
      "\n",
      "<https://api.stage.sinopia.io/resource/2559d178-6c72-47d1-9042-c547e1b4e0e6> a bf:Instance,\n",
      "        bf:Print ;\n",
      "    rdfs:label \"Digging up dinosaur fossils \"@en ;\n",
      "    bf:adminMetadata [ a bf:AdminMetadata ;\n",
      "            bflc:catalogerId \"MFG\" ;\n",
      "            bflc:encodingLevel <http://id.loc.gov/vocabulary/menclvl/8> ;\n",
      "            bf:creationDate \"2022-04-15\" ;\n",
      "            bf:descriptionAuthentication <https://id.loc.gov/vocabulary/marcauthen/pcc> ;\n",
      "            bf:descriptionConventions <https://id.loc.gov/vocabulary/descriptionConventions/rda> ;\n",
      "            bf:descriptionLanguage <https://id.loc.gov/vocabulary/languages/eng> ;\n",
      "            bf:source <http://id.loc.gov/vocabulary/organizations/cst> ] ;\n",
      "    bf:carrier <http://id.loc.gov/vocabulary/carriers/nc> ;\n",
      "    bf:dimensions \"19 cm\"@en ;\n",
      "    bf:extent [ a bf:Extent ;\n",
      "            rdfs:label \"32 pages \"@en ] ;\n",
      "    bf:identifiedBy [ a bf:Local ;\n",
      "            bf:source [ a bf:Source ;\n",
      "                    rdfs:label \"OCLC\"@en ] ;\n",
      "            rdf:value \"1151533687\"@en ],\n",
      "        [ a bf:Isbn ;\n",
      "            bf:qualifier \"(paperback)\"@en ;\n",
      "            rdf:value \"1978521502\"@en ],\n",
      "        [ a bf:Isbn ;\n",
      "            bf:status <http://id.loc.gov/vocabulary/mstatus/cancinv> ],\n",
      "        [ a bf:Isbn ;\n",
      "            bf:qualifier \"(paperback)\"@en ;\n",
      "            rdf:value \"9781978521506\"@en ],\n",
      "        [ a bf:Isbn ;\n",
      "            bf:qualifier \"(library binding)\"@en ;\n",
      "            rdf:value \"9781978521520\"@en ],\n",
      "        [ a bf:Isbn ;\n",
      "            rdf:value \"1978521510\"@en ],\n",
      "        [ a bf:Lccn ;\n",
      "            rdf:value \"2020013394\"@en ],\n",
      "        [ a bf:Isbn ;\n",
      "            bf:qualifier \"(library binding)\"@en ;\n",
      "            rdf:value \"1978521529\"@en ],\n",
      "        [ a bf:Isbn ;\n",
      "            rdf:value \"9781978521513\"@en ] ;\n",
      "    bf:instanceOf <https://api.stage.sinopia.io/resource/181d118d-cce3-4506-811c-2e4a1eaf50b8> ;\n",
      "    bf:issuance <https://id.loc.gov/vocabulary/issuance/mono> ;\n",
      "    bf:media <https://id.loc.gov/vocabulary/mediaTypes/n> ;\n",
      "    bf:note [ a bf:Note ;\n",
      "            rdfs:label \"Includes bibliographical references (page 31) and index\"@en ] ;\n",
      "    bf:provisionActivity [ a bf:Publication ;\n",
      "            bf:agent <http://id.loc.gov/authorities/names/no2016167829> ;\n",
      "            bf:date \"2022\"@en ;\n",
      "            bf:place <http://id.loc.gov/authorities/names/n80126293> ] ;\n",
      "    bf:provisionActivityStatement \"New York : Enslow Publishing, [2022]\"@en ;\n",
      "    bf:responsibilityStatement \"Charlotte Taylor\"@en ;\n",
      "    bf:seriesStatement \"Dig deep into fossils\"@en ;\n",
      "    bf:title [ a bf:Title ;\n",
      "            bf:mainTitle \"Digging up dinosaur fossils \"@en ;\n",
      "            bf:note [ a bf:Note ;\n",
      "                    rdfs:label \"Projected date 2101\"@en ] ] ;\n",
      "    sinopia:hasResourceTemplate \"pcc:bf2:Monograph:Instance\" .\n",
      "\n",
      "<https://id.loc.gov/vocabulary/contentTypes/txt> rdfs:label \"text\"@en .\n",
      "\n",
      "<https://id.loc.gov/vocabulary/issuance/mono> rdfs:label \"Single unit\"@en .\n",
      "\n",
      "<https://id.loc.gov/vocabulary/mediaTypes/n> rdfs:label \"unmediated\"@en .\n",
      "\n",
      "<http://id.loc.gov/vocabulary/menclvl/8> rdfs:label \"prepublication\" .\n",
      "\n",
      "<http://id.loc.gov/vocabulary/organizations/cst> rdfs:label \"Stanford University\"@en .\n",
      "\n",
      "<https://id.loc.gov/vocabulary/descriptionConventions/rda> rdfs:label \"Resource Description and Access\"@en .\n",
      "\n",
      "<https://id.loc.gov/vocabulary/languages/eng> rdfs:label \"English\"@en .\n",
      "\n",
      "<https://id.loc.gov/vocabulary/marcauthen/pcc> rdfs:label \"Program for Cooperative Cataloging\"@en .\n",
      "\n",
      "\n"
     ]
    }
   ],
   "source": [
    "print(graph1.serialize(format='turtle'))"
   ]
  },
  {
   "cell_type": "code",
   "execution_count": 49,
   "id": "ffa2a07f-52cd-447d-ad4e-669aa47db6f0",
   "metadata": {},
   "outputs": [
    {
     "name": "stderr",
     "output_type": "stream",
     "text": [
      "Constraint Violation in DatatypeConstraintComponent (http://www.w3.org/ns/shacl#DatatypeConstraintComponent):\n",
      "\tSeverity: sh:Violation\n",
      "\tSource Shape: [ rdf:type sh:Property ; sh:datatype xsd:date ; sh:min Literal(\"1\", datatype=xsd:integer) ; sh:path bf:creationDate ]\n",
      "\tFocus Node: [ bf:creationDate Literal(\"2022-04-15\") ; bf:descriptionAuthentication <https://id.loc.gov/vocabulary/marcauthen/pcc> ; bf:descriptionConventions <https://id.loc.gov/vocabulary/descriptionConventions/rda> ; bf:descriptionLanguage <https://id.loc.gov/vocabulary/languages/eng> ; bf:source <http://id.loc.gov/vocabulary/organizations/cst> ; bflc:catalogerId Literal(\"MFG\") ; bflc:encodingLevel <http://id.loc.gov/vocabulary/menclvl/8> ; rdf:type bf:AdminMetadata ]\n",
      "\tValue Node: Literal(\"2022-04-15\")\n",
      "\tResult Path: bf:creationDate\n",
      "\tMessage: Value is not Literal with datatype xsd:date\n",
      "\n",
      "Constraint Violation in DatatypeConstraintComponent (http://www.w3.org/ns/shacl#DatatypeConstraintComponent):\n",
      "\tSeverity: sh:Violation\n",
      "\tSource Shape: [ rdf:type sh:Property ; sh:datatype xsd:date ; sh:min Literal(\"1\", datatype=xsd:integer) ; sh:path bf:creationDate ]\n",
      "\tFocus Node: [ bf:creationDate Literal(\"2022-04-15\") ; bf:descriptionAuthentication <https://id.loc.gov/vocabulary/marcauthen/pcc> ; bf:descriptionConventions <https://id.loc.gov/vocabulary/descriptionConventions/rda> ; bf:descriptionLanguage <https://id.loc.gov/vocabulary/languages/eng> ; bf:source <http://id.loc.gov/vocabulary/organizations/cst> ; bflc:catalogerId Literal(\"MFG\") ; bflc:encodingLevel <http://id.loc.gov/vocabulary/menclvl/8> ; rdf:type bf:AdminMetadata ]\n",
      "\tValue Node: Literal(\"2022-04-15\")\n",
      "\tResult Path: bf:creationDate\n",
      "\tMessage: Value is not Literal with datatype xsd:date\n",
      "\n"
     ]
    }
   ],
   "source": [
    "conforms, results_graph, results_text = pyshacl.validate(\n",
    "    graph1,\n",
    "    shacl_graph=shacl_graph,\n",
    "    abort_on_first=True\n",
    ")"
   ]
  },
  {
   "cell_type": "code",
   "execution_count": 51,
   "id": "21c28a89-40f4-44df-904a-f4b110fe529e",
   "metadata": {},
   "outputs": [
    {
     "data": {
      "text/plain": [
       "\u001b[0;31mSignature:\u001b[0m\n",
       "\u001b[0mpyshacl\u001b[0m\u001b[0;34m.\u001b[0m\u001b[0mvalidate\u001b[0m\u001b[0;34m(\u001b[0m\u001b[0;34m\u001b[0m\n",
       "\u001b[0;34m\u001b[0m    \u001b[0mdata_graph\u001b[0m\u001b[0;34m:\u001b[0m \u001b[0mUnion\u001b[0m\u001b[0;34m[\u001b[0m\u001b[0mrdflib\u001b[0m\u001b[0;34m.\u001b[0m\u001b[0mgraph\u001b[0m\u001b[0;34m.\u001b[0m\u001b[0mConjunctiveGraph\u001b[0m\u001b[0;34m,\u001b[0m \u001b[0mrdflib\u001b[0m\u001b[0;34m.\u001b[0m\u001b[0mgraph\u001b[0m\u001b[0;34m.\u001b[0m\u001b[0mDataset\u001b[0m\u001b[0;34m,\u001b[0m \u001b[0mrdflib\u001b[0m\u001b[0;34m.\u001b[0m\u001b[0mgraph\u001b[0m\u001b[0;34m.\u001b[0m\u001b[0mGraph\u001b[0m\u001b[0;34m,\u001b[0m \u001b[0mstr\u001b[0m\u001b[0;34m,\u001b[0m \u001b[0mbytes\u001b[0m\u001b[0;34m]\u001b[0m\u001b[0;34m,\u001b[0m\u001b[0;34m\u001b[0m\n",
       "\u001b[0;34m\u001b[0m    \u001b[0;34m*\u001b[0m\u001b[0margs\u001b[0m\u001b[0;34m,\u001b[0m\u001b[0;34m\u001b[0m\n",
       "\u001b[0;34m\u001b[0m    \u001b[0mshacl_graph\u001b[0m\u001b[0;34m:\u001b[0m \u001b[0mUnion\u001b[0m\u001b[0;34m[\u001b[0m\u001b[0mrdflib\u001b[0m\u001b[0;34m.\u001b[0m\u001b[0mgraph\u001b[0m\u001b[0;34m.\u001b[0m\u001b[0mConjunctiveGraph\u001b[0m\u001b[0;34m,\u001b[0m \u001b[0mrdflib\u001b[0m\u001b[0;34m.\u001b[0m\u001b[0mgraph\u001b[0m\u001b[0;34m.\u001b[0m\u001b[0mDataset\u001b[0m\u001b[0;34m,\u001b[0m \u001b[0mrdflib\u001b[0m\u001b[0;34m.\u001b[0m\u001b[0mgraph\u001b[0m\u001b[0;34m.\u001b[0m\u001b[0mGraph\u001b[0m\u001b[0;34m,\u001b[0m \u001b[0mstr\u001b[0m\u001b[0;34m,\u001b[0m \u001b[0mbytes\u001b[0m\u001b[0;34m,\u001b[0m \u001b[0mNoneType\u001b[0m\u001b[0;34m]\u001b[0m \u001b[0;34m=\u001b[0m \u001b[0;32mNone\u001b[0m\u001b[0;34m,\u001b[0m\u001b[0;34m\u001b[0m\n",
       "\u001b[0;34m\u001b[0m    \u001b[0mont_graph\u001b[0m\u001b[0;34m:\u001b[0m \u001b[0mUnion\u001b[0m\u001b[0;34m[\u001b[0m\u001b[0mrdflib\u001b[0m\u001b[0;34m.\u001b[0m\u001b[0mgraph\u001b[0m\u001b[0;34m.\u001b[0m\u001b[0mConjunctiveGraph\u001b[0m\u001b[0;34m,\u001b[0m \u001b[0mrdflib\u001b[0m\u001b[0;34m.\u001b[0m\u001b[0mgraph\u001b[0m\u001b[0;34m.\u001b[0m\u001b[0mDataset\u001b[0m\u001b[0;34m,\u001b[0m \u001b[0mrdflib\u001b[0m\u001b[0;34m.\u001b[0m\u001b[0mgraph\u001b[0m\u001b[0;34m.\u001b[0m\u001b[0mGraph\u001b[0m\u001b[0;34m,\u001b[0m \u001b[0mstr\u001b[0m\u001b[0;34m,\u001b[0m \u001b[0mbytes\u001b[0m\u001b[0;34m,\u001b[0m \u001b[0mNoneType\u001b[0m\u001b[0;34m]\u001b[0m \u001b[0;34m=\u001b[0m \u001b[0;32mNone\u001b[0m\u001b[0;34m,\u001b[0m\u001b[0;34m\u001b[0m\n",
       "\u001b[0;34m\u001b[0m    \u001b[0madvanced\u001b[0m\u001b[0;34m:\u001b[0m \u001b[0mOptional\u001b[0m\u001b[0;34m[\u001b[0m\u001b[0mbool\u001b[0m\u001b[0;34m]\u001b[0m \u001b[0;34m=\u001b[0m \u001b[0;32mFalse\u001b[0m\u001b[0;34m,\u001b[0m\u001b[0;34m\u001b[0m\n",
       "\u001b[0;34m\u001b[0m    \u001b[0minference\u001b[0m\u001b[0;34m:\u001b[0m \u001b[0mOptional\u001b[0m\u001b[0;34m[\u001b[0m\u001b[0mstr\u001b[0m\u001b[0;34m]\u001b[0m \u001b[0;34m=\u001b[0m \u001b[0;32mNone\u001b[0m\u001b[0;34m,\u001b[0m\u001b[0;34m\u001b[0m\n",
       "\u001b[0;34m\u001b[0m    \u001b[0minplace\u001b[0m\u001b[0;34m:\u001b[0m \u001b[0mOptional\u001b[0m\u001b[0;34m[\u001b[0m\u001b[0mbool\u001b[0m\u001b[0;34m]\u001b[0m \u001b[0;34m=\u001b[0m \u001b[0;32mFalse\u001b[0m\u001b[0;34m,\u001b[0m\u001b[0;34m\u001b[0m\n",
       "\u001b[0;34m\u001b[0m    \u001b[0mabort_on_first\u001b[0m\u001b[0;34m:\u001b[0m \u001b[0mOptional\u001b[0m\u001b[0;34m[\u001b[0m\u001b[0mbool\u001b[0m\u001b[0;34m]\u001b[0m \u001b[0;34m=\u001b[0m \u001b[0;32mFalse\u001b[0m\u001b[0;34m,\u001b[0m\u001b[0;34m\u001b[0m\n",
       "\u001b[0;34m\u001b[0m    \u001b[0mallow_infos\u001b[0m\u001b[0;34m:\u001b[0m \u001b[0mOptional\u001b[0m\u001b[0;34m[\u001b[0m\u001b[0mbool\u001b[0m\u001b[0;34m]\u001b[0m \u001b[0;34m=\u001b[0m \u001b[0;32mFalse\u001b[0m\u001b[0;34m,\u001b[0m\u001b[0;34m\u001b[0m\n",
       "\u001b[0;34m\u001b[0m    \u001b[0mallow_warnings\u001b[0m\u001b[0;34m:\u001b[0m \u001b[0mOptional\u001b[0m\u001b[0;34m[\u001b[0m\u001b[0mbool\u001b[0m\u001b[0;34m]\u001b[0m \u001b[0;34m=\u001b[0m \u001b[0;32mFalse\u001b[0m\u001b[0;34m,\u001b[0m\u001b[0;34m\u001b[0m\n",
       "\u001b[0;34m\u001b[0m    \u001b[0;34m**\u001b[0m\u001b[0mkwargs\u001b[0m\u001b[0;34m,\u001b[0m\u001b[0;34m\u001b[0m\n",
       "\u001b[0;34m\u001b[0m\u001b[0;34m)\u001b[0m\u001b[0;34m\u001b[0m\u001b[0;34m\u001b[0m\u001b[0m\n",
       "\u001b[0;31mDocstring:\u001b[0m\n",
       ":param data_graph: rdflib.Graph or file path or web url of the data to validate\n",
       ":type data_graph: rdflib.Graph | str | bytes\n",
       ":param args:\n",
       ":type args: list\n",
       ":param shacl_graph: rdflib.Graph or file path or web url of the SHACL Shapes graph to use to\n",
       "validate the data graph\n",
       ":type shacl_graph: rdflib.Graph | str | bytes\n",
       ":param ont_graph: rdflib.Graph or file path or web url of an extra ontology document to mix into the data graph\n",
       ":type ont_graph: rdflib.Graph | str | bytes\n",
       ":param advanced: Enable advanced SHACL features, default=False\n",
       ":type advanced: bool | None\n",
       ":param inference: One of \"rdfs\", \"owlrl\", \"both\", \"none\", or None\n",
       ":type inference: str | None\n",
       ":param inplace: If this is enabled, do not clone the datagraph, manipulate it inplace\n",
       ":type inplace: bool\n",
       ":param abort_on_first: Stop evaluating constraints after first violation is found\n",
       ":type abort_on_first: bool | None\n",
       ":param allow_infos: Shapes marked with severity of sh:Info will not cause result to be invalid.\n",
       ":type allow_infos: bool | None\n",
       ":param allow_warnings: Shapes marked with severity of sh:Warning or sh:Info will not cause result to be invalid.\n",
       ":type allow_warnings: bool | None\n",
       ":param kwargs:\n",
       ":return:\n",
       "\u001b[0;31mFile:\u001b[0m      ~/02022/py3-env/lib/python3.10/site-packages/pyshacl/validate.py\n",
       "\u001b[0;31mType:\u001b[0m      function\n"
      ]
     },
     "metadata": {},
     "output_type": "display_data"
    }
   ],
   "source": [
    "pyshacl.validate?"
   ]
  },
  {
   "cell_type": "code",
   "execution_count": 50,
   "id": "715065ef-5800-4a2f-b605-5fe3a9ad9f8f",
   "metadata": {},
   "outputs": [
    {
     "data": {
      "text/plain": [
       "<Graph identifier=Nb3be1752b637414d9a670329976bac5b (<class 'rdflib.graph.Graph'>)>"
      ]
     },
     "execution_count": 50,
     "metadata": {},
     "output_type": "execute_result"
    }
   ],
   "source": [
    "results_graph"
   ]
  },
  {
   "cell_type": "code",
   "execution_count": 46,
   "id": "c2c181c8-2cdf-4fc9-9912-215b00616bc6",
   "metadata": {},
   "outputs": [
    {
     "data": {
      "text/plain": [
       "<Graph identifier=N4cdf9e7e4917482f9309df8acd56d660 (<class 'rdflib.graph.Graph'>)>"
      ]
     },
     "execution_count": 46,
     "metadata": {},
     "output_type": "execute_result"
    }
   ],
   "source": [
    "errors_graph = rdflib.Graph()\n",
    "errors_graph.parse(data=results_graph, format='turtle')"
   ]
  },
  {
   "cell_type": "code",
   "execution_count": 47,
   "id": "00dc5fc4-cc3a-429c-a2d0-d12cd81da8f4",
   "metadata": {},
   "outputs": [
    {
     "name": "stdout",
     "output_type": "stream",
     "text": [
      "@prefix bf: <http://id.loc.gov/ontologies/bibframe/> .\n",
      "@prefix bflc: <http://id.loc.gov/ontologies/bflc/> .\n",
      "@prefix sh: <http://www.w3.org/ns/shacl#> .\n",
      "@prefix xsd: <http://www.w3.org/2001/XMLSchema#> .\n",
      "\n",
      "[] a sh:ValidationReport ;\n",
      "    sh:conforms false ;\n",
      "    sh:result [ a sh:ValidationResult ;\n",
      "            sh:focusNode [ a bf:AdminMetadata ;\n",
      "                    bflc:catalogerId \"MFG\" ;\n",
      "                    bflc:encodingLevel <http://id.loc.gov/vocabulary/menclvl/8> ;\n",
      "                    bf:creationDate \"2022-04-15\" ;\n",
      "                    bf:descriptionAuthentication <https://id.loc.gov/vocabulary/marcauthen/pcc> ;\n",
      "                    bf:descriptionConventions <https://id.loc.gov/vocabulary/descriptionConventions/rda> ;\n",
      "                    bf:descriptionLanguage <https://id.loc.gov/vocabulary/languages/eng> ;\n",
      "                    bf:source <http://id.loc.gov/vocabulary/organizations/cst> ] ;\n",
      "            sh:resultMessage \"Value is not Literal with datatype xsd:date\" ;\n",
      "            sh:resultPath bf:creationDate ;\n",
      "            sh:resultSeverity sh:Violation ;\n",
      "            sh:sourceConstraintComponent sh:DatatypeConstraintComponent ;\n",
      "            sh:sourceShape _:ne91afaabf5d94c44b7cf1ad3fc71f805b4 ;\n",
      "            sh:value \"2022-04-15\" ],\n",
      "        [ a sh:ValidationResult ;\n",
      "            sh:focusNode [ a bf:AdminMetadata ;\n",
      "                    bflc:catalogerId \"MFG\" ;\n",
      "                    bflc:encodingLevel <http://id.loc.gov/vocabulary/menclvl/8> ;\n",
      "                    bf:creationDate \"2022-04-15\" ;\n",
      "                    bf:descriptionAuthentication <https://id.loc.gov/vocabulary/marcauthen/pcc> ;\n",
      "                    bf:descriptionConventions <https://id.loc.gov/vocabulary/descriptionConventions/rda> ;\n",
      "                    bf:descriptionLanguage <https://id.loc.gov/vocabulary/languages/eng> ;\n",
      "                    bf:source <http://id.loc.gov/vocabulary/organizations/cst> ] ;\n",
      "            sh:resultMessage \"Value is not Literal with datatype xsd:date\" ;\n",
      "            sh:resultPath bf:creationDate ;\n",
      "            sh:resultSeverity sh:Violation ;\n",
      "            sh:sourceConstraintComponent sh:DatatypeConstraintComponent ;\n",
      "            sh:sourceShape _:ne91afaabf5d94c44b7cf1ad3fc71f805b4 ;\n",
      "            sh:value \"2022-04-15\" ] .\n",
      "\n",
      "_:ne91afaabf5d94c44b7cf1ad3fc71f805b4 a sh:Property ;\n",
      "    sh:datatype xsd:date ;\n",
      "    sh:min 1 ;\n",
      "    sh:path bf:creationDate .\n",
      "\n",
      "\n"
     ]
    }
   ],
   "source": [
    "print(errors_graph.serialize(format='turtle'))"
   ]
  },
  {
   "cell_type": "code",
   "execution_count": null,
   "id": "c33f9bc8-e217-48b8-849a-05f344953aba",
   "metadata": {},
   "outputs": [],
   "source": [
    "shacl_property_template = \"\"\"<https://api.development.sinopia.io/resource/pcc:interchange:property> <http://sinopia.io/vocabulary/hasResourceTemplate> \"sinopia:template:resource\";\n",
    "    a <http://sinopia.io/vocabulary/ResourceTemplate>;\n",
    "    <http://sinopia.io/vocabulary/hasResourceId> \"pcc:interchange:property\"@en;\n",
    "    <http://sinopia.io/vocabulary/hasClass> <http://www.w3.org/ns/shacl#Property>;\n",
    "    <http://www.w3.org/2000/01/rdf-schema#label> \"SHACL Node Property\"@en;\n",
    "    <http://sinopia.io/vocabulary/hasAuthor> \"jpnelson\"@en;\n",
    "    <http://sinopia.io/vocabulary/hasDate> \"2022-05-16\"@en;\n",
    "    <http://sinopia.io/vocabulary/hasPropertyTemplate> _:b9.\n",
    "_:b9 <http://www.w3.org/1999/02/22-rdf-syntax-ns#rest> <http://www.w3.org/1999/02/22-rdf-syntax-ns#nil>;\n",
    "    <http://www.w3.org/1999/02/22-rdf-syntax-ns#first> _:b10.\n",
    "_:b10 a <http://sinopia.io/vocabulary/PropertyTemplate>;\n",
    "    <http://www.w3.org/2000/01/rdf-schema#label> \"SHACL Property Path\"@en;\n",
    "    <http://sinopia.io/vocabulary/hasPropertyUri> <http://www.w3.org/ns/shacl#path>;\n",
    "    <http://sinopia.io/vocabulary/hasPropertyType> <http://sinopia.io/vocabulary/propertyType/uri>.\n",
    "<http://sinopia.io/vocabulary/propertyType/uri> <http://www.w3.org/2000/01/rdf-schema#label> \"uri or lookup\".\n",
    "\"\"\""
   ]
  },
  {
   "cell_type": "code",
   "execution_count": 9,
   "id": "521b7ac6-c872-48db-b199-774408e527f0",
   "metadata": {},
   "outputs": [],
   "source": [
    "shacl_urls = ['https://api.development.sinopia.io/resource/18b6edba-b829-47f8-9fab-05b00314bc2e',\n",
    "              'https://api.development.sinopia.io/resource/c3067afb-d255-487c-834b-d40ce0ac075d',\n",
    "              'https://api.development.sinopia.io/resource/ecea41b3-ce74-4e2f-8a97-299caa46fd74']"
   ]
  },
  {
   "cell_type": "code",
   "execution_count": 26,
   "id": "62975334-7d5a-48f3-8fde-fe84292dde73",
   "metadata": {},
   "outputs": [],
   "source": [
    "shacl_graph = rdflib.Graph()\n",
    "shacl_graph.namespace_manager.bind(\"bf\", \"http://id.loc.gov/ontologies/bibframe/\")\n",
    "shacl_graph.namespace_manager.bind(\"bflc\", \"http://id.loc.gov/ontologies/bflc/\")\n",
    "shacl_graph.namespace_manager.bind(\"sinopia\", \"http://sinopia.io/vocabulary/\")"
   ]
  },
  {
   "cell_type": "code",
   "execution_count": 29,
   "id": "819bc7d0-4ab5-4761-9948-c7a999671b34",
   "metadata": {},
   "outputs": [
    {
     "data": {
      "text/plain": [
       "\u001b[0;31mSignature:\u001b[0m\n",
       "\u001b[0mshacl_graph\u001b[0m\u001b[0;34m.\u001b[0m\u001b[0mupdate\u001b[0m\u001b[0;34m(\u001b[0m\u001b[0;34m\u001b[0m\n",
       "\u001b[0;34m\u001b[0m    \u001b[0mupdate_object\u001b[0m\u001b[0;34m,\u001b[0m\u001b[0;34m\u001b[0m\n",
       "\u001b[0;34m\u001b[0m    \u001b[0mprocessor\u001b[0m\u001b[0;34m=\u001b[0m\u001b[0;34m'sparql'\u001b[0m\u001b[0;34m,\u001b[0m\u001b[0;34m\u001b[0m\n",
       "\u001b[0;34m\u001b[0m    \u001b[0minitNs\u001b[0m\u001b[0;34m=\u001b[0m\u001b[0;32mNone\u001b[0m\u001b[0;34m,\u001b[0m\u001b[0;34m\u001b[0m\n",
       "\u001b[0;34m\u001b[0m    \u001b[0minitBindings\u001b[0m\u001b[0;34m=\u001b[0m\u001b[0;32mNone\u001b[0m\u001b[0;34m,\u001b[0m\u001b[0;34m\u001b[0m\n",
       "\u001b[0;34m\u001b[0m    \u001b[0muse_store_provided\u001b[0m\u001b[0;34m=\u001b[0m\u001b[0;32mTrue\u001b[0m\u001b[0;34m,\u001b[0m\u001b[0;34m\u001b[0m\n",
       "\u001b[0;34m\u001b[0m    \u001b[0;34m**\u001b[0m\u001b[0mkwargs\u001b[0m\u001b[0;34m,\u001b[0m\u001b[0;34m\u001b[0m\n",
       "\u001b[0;34m\u001b[0m\u001b[0;34m)\u001b[0m\u001b[0;34m\u001b[0m\u001b[0;34m\u001b[0m\u001b[0m\n",
       "\u001b[0;31mDocstring:\u001b[0m Update this graph with the given update query.\n",
       "\u001b[0;31mFile:\u001b[0m      ~/02022/py3-env/lib/python3.10/site-packages/rdflib/graph.py\n",
       "\u001b[0;31mType:\u001b[0m      method\n"
      ]
     },
     "metadata": {},
     "output_type": "display_data"
    }
   ],
   "source": [
    "shacl_graph.update?"
   ]
  },
  {
   "cell_type": "code",
   "execution_count": 33,
   "id": "5b917609-34f4-4cc7-94e0-1e42496e87f5",
   "metadata": {},
   "outputs": [],
   "source": [
    "import json\n",
    "import requests\n",
    "\n",
    "for url in shacl_urls:\n",
    "    result = requests.get(url)\n",
    "    json_ld = result.json()['data']\n",
    "    graph = rdflib.Graph()\n",
    "    graph.parse(data=json.dumps(json_ld), format='json-ld')\n",
    "    shacl_graph.parse(data=graph.serialize(format='nt'))"
   ]
  },
  {
   "cell_type": "code",
   "execution_count": 34,
   "id": "ebf77992-9ccf-49f6-870b-e79b50d9c8bf",
   "metadata": {},
   "outputs": [
    {
     "name": "stdout",
     "output_type": "stream",
     "text": [
      "@prefix bf: <http://id.loc.gov/ontologies/bibframe/> .\n",
      "@prefix bflc: <http://id.loc.gov/ontologies/bflc/> .\n",
      "@prefix rdfs: <http://www.w3.org/2000/01/rdf-schema#> .\n",
      "@prefix sh: <http://www.w3.org/ns/shacl#> .\n",
      "@prefix sinopia: <http://sinopia.io/vocabulary/> .\n",
      "@prefix xsd: <http://www.w3.org/2001/XMLSchema#> .\n",
      "\n",
      "<https://api.development.sinopia.io/resource/18b6edba-b829-47f8-9fab-05b00314bc2e> a sh:NodeShape ;\n",
      "    rdfs:label \"BIBFRAME SHACL WorkShape\"@en ;\n",
      "    sinopia:hasResourceTemplate \"pcc:interchange:NodeShape\" ;\n",
      "    sh:property [ a sh:PropertyShape ;\n",
      "            sh:class bf:Title ;\n",
      "            sh:min 1 ;\n",
      "            sh:node bf:TitleShape ;\n",
      "            sh:path bf:title ] ;\n",
      "    sh:targetClass bf:Work .\n",
      "\n",
      "<https://api.development.sinopia.io/resource/c3067afb-d255-487c-834b-d40ce0ac075d> a sh:NodeShape ;\n",
      "    rdfs:label \"BIBFRAME SHACL TitleShape\"@en ;\n",
      "    sinopia:hasResourceTemplate \"pcc:interchange:NodeShape\" ;\n",
      "    sh:nodeKind sh:BlankNodeOrIRI ;\n",
      "    sh:property [ a sh:Property ;\n",
      "            sh:path bf:mainTitle ],\n",
      "        [ a sh:Property ;\n",
      "            sh:path rdfs:label ] ;\n",
      "    sh:targetClass bf:Title .\n",
      "\n",
      "<https://api.development.sinopia.io/resource/ecea41b3-ce74-4e2f-8a97-299caa46fd74> a sh:NodeShape ;\n",
      "    rdfs:label \"BIBFRAME SHACL AdminMetadataShape\"@en ;\n",
      "    sinopia:hasResourceTemplate \"pcc:interchange:NodeShape\" ;\n",
      "    sh:property [ a sh:Property ;\n",
      "            sh:datatype xsd:date ;\n",
      "            sh:min 1 ;\n",
      "            sh:path bf:creationDate ],\n",
      "        [ a sh:Property ;\n",
      "            sh:datatype xsd:dateTime ;\n",
      "            sh:path bf:changeDate ],\n",
      "        [ a sh:Property ;\n",
      "            sh:path bf:descriptionLanguage ],\n",
      "        [ a sh:Property ;\n",
      "            sh:path bflc:catalogerId ] ;\n",
      "    sh:targetClass bf:AdminMetadata .\n",
      "\n",
      "bflc:catalogerId rdfs:label \"BIBFRAME AdminMetadata Cataloger ID\"@en .\n",
      "\n",
      "bf:AdminMetadata rdfs:label \"BIBFRAME AdminMetadataShape targetClass is AdminMetadata\"@en .\n",
      "\n",
      "bf:TitleShape rdfs:label \"Title Shape Node for title property \"@en .\n",
      "\n",
      "bf:Work rdfs:label \"Work Class\"@en .\n",
      "\n",
      "bf:changeDate rdfs:label \"BIBFRAME  AdminMetadata changeDate\"@en .\n",
      "\n",
      "bf:creationDate rdfs:label \"BIBFRAME  AdminMetadata creationDate\"@en .\n",
      "\n",
      "bf:descriptionLanguage rdfs:label \"BIBFRAME AdminMetadata Description Language\"@en .\n",
      "\n",
      "bf:mainTitle rdfs:label \"BIBFRAME Title mainTitle\"@en .\n",
      "\n",
      "bf:title rdfs:label \"Title property\"@en .\n",
      "\n",
      "rdfs:label rdfs:label \"BIBFRAME Title RDF Label\"@en .\n",
      "\n",
      "xsd:date rdfs:label \"xsd:date\"@en .\n",
      "\n",
      "xsd:dateTime rdfs:label \"xsd:dateTime \"@en .\n",
      "\n",
      "sh:BlankNodeOrIRI rdfs:label \"Allow blank nodes or IRIs\"@en .\n",
      "\n",
      "bf:Title rdfs:label \"BIBFRAME TitleShape Title Class\"@en,\n",
      "        \"Title Class URI\"@en .\n",
      "\n",
      "\n"
     ]
    }
   ],
   "source": [
    "print(shacl_graph.serialize(format='turtle'))"
   ]
  },
  {
   "cell_type": "code",
   "execution_count": 40,
   "id": "f1f24ee2-2089-4dda-bf57-59599427d956",
   "metadata": {},
   "outputs": [
    {
     "name": "stderr",
     "output_type": "stream",
     "text": [
      "Constraint Violation in DatatypeConstraintComponent (http://www.w3.org/ns/shacl#DatatypeConstraintComponent):\n",
      "\tSeverity: sh:Violation\n",
      "\tSource Shape: [ rdf:type sh:Property ; sh:datatype xsd:date ; sh:min Literal(\"1\", datatype=xsd:integer) ; sh:path bf:creationDate ]\n",
      "\tFocus Node: [ bf:creationDate Literal(\"2022-04-15\") ; bf:descriptionAuthentication <https://id.loc.gov/vocabulary/marcauthen/pcc> ; bf:descriptionConventions <https://id.loc.gov/vocabulary/descriptionConventions/rda> ; bf:descriptionLanguage <https://id.loc.gov/vocabulary/languages/eng> ; bf:source <http://id.loc.gov/vocabulary/organizations/cst> ; bflc:catalogerId Literal(\"MFG\") ; bflc:encodingLevel <http://id.loc.gov/vocabulary/menclvl/8> ; rdf:type bf:AdminMetadata ]\n",
      "\tValue Node: Literal(\"2022-04-15\")\n",
      "\tResult Path: bf:creationDate\n",
      "\tMessage: Value is not Literal with datatype xsd:date\n",
      "\n",
      "Constraint Violation in DatatypeConstraintComponent (http://www.w3.org/ns/shacl#DatatypeConstraintComponent):\n",
      "\tSeverity: sh:Violation\n",
      "\tSource Shape: [ rdf:type sh:Property ; sh:datatype xsd:date ; sh:min Literal(\"1\", datatype=xsd:integer) ; sh:path bf:creationDate ]\n",
      "\tFocus Node: [ bf:creationDate Literal(\"2022-04-15\") ; bf:descriptionAuthentication <https://id.loc.gov/vocabulary/marcauthen/pcc> ; bf:descriptionConventions <https://id.loc.gov/vocabulary/descriptionConventions/rda> ; bf:descriptionLanguage <https://id.loc.gov/vocabulary/languages/eng> ; bf:source <http://id.loc.gov/vocabulary/organizations/cst> ; bflc:catalogerId Literal(\"MFG\") ; bflc:encodingLevel <http://id.loc.gov/vocabulary/menclvl/8> ; rdf:type bf:AdminMetadata ]\n",
      "\tValue Node: Literal(\"2022-04-15\")\n",
      "\tResult Path: bf:creationDate\n",
      "\tMessage: Value is not Literal with datatype xsd:date\n",
      "\n"
     ]
    }
   ],
   "source": [
    "validation_results = pyshacl.validate(\n",
    "    graph1,\n",
    "    shacl_graph=shacl_graph,\n",
    "    debug=True,\n",
    "    serialize_report_graph=\"ttl\"\n",
    ")"
   ]
  }
 ],
 "metadata": {
  "kernelspec": {
   "display_name": "Python 3 (ipykernel)",
   "language": "python",
   "name": "python3"
  },
  "language_info": {
   "codemirror_mode": {
    "name": "ipython",
    "version": 3
   },
   "file_extension": ".py",
   "mimetype": "text/x-python",
   "name": "python",
   "nbconvert_exporter": "python",
   "pygments_lexer": "ipython3",
   "version": "3.10.4"
  }
 },
 "nbformat": 4,
 "nbformat_minor": 5
}
