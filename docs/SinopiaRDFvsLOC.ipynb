{
 "cells": [
  {
   "cell_type": "markdown",
   "id": "c4b5f9cd-a997-472f-bffb-c120a138cdbc",
   "metadata": {},
   "source": [
    "# PCC/Sinopia Data Exchange"
   ]
  },
  {
   "cell_type": "code",
   "execution_count": 3,
   "id": "5d0d91f9-e6a7-4dd2-82eb-ce7dc719b019",
   "metadata": {},
   "outputs": [],
   "source": [
    "import json\n",
    "\n",
    "import rdflib\n",
    "import requests\n"
   ]
  },
  {
   "cell_type": "code",
   "execution_count": 4,
   "id": "c6f266bd-f884-4df0-8b63-ef07a3438466",
   "metadata": {},
   "outputs": [],
   "source": [
    "sinopia_work = rdflib.Graph()"
   ]
  },
  {
   "cell_type": "code",
   "execution_count": 5,
   "id": "620e4656-3deb-4c20-bd12-659766b5eb9c",
   "metadata": {},
   "outputs": [],
   "source": [
    "sinopia_work_xml = \"\"\"<?xml version=\"1.0\" encoding=\"utf-8\"?>\n",
    "<rdf:RDF xmlns:bf=\"http://id.loc.gov/ontologies/bibframe/\"\n",
    "  xmlns:bflc=\"http://id.loc.gov/ontologies/bflc/\" xmlns:mads=\"http://www.loc.gov/mads/rdf/v1#\"\n",
    "  xmlns:rdau=\"http://rdaregistry.info/Elements/u/\"\n",
    "  xmlns:rdf=\"http://www.w3.org/1999/02/22-rdf-syntax-ns#\"\n",
    "  xmlns:rdfs=\"http://www.w3.org/2000/01/rdf-schema#\" xmlns:sinopia=\"http://sinopia.io/vocabulary/\"\n",
    "  xmlns:skos=\"http://www.w3.org/2004/02/skos/core#\">\n",
    "  <bf:Agent rdf:about=\"http://id.loc.gov/authorities/names/n2020011828\">\n",
    "    <rdf:type rdf:resource=\"http://id.loc.gov/ontologies/bibframe/Person\"/>\n",
    "    <rdfs:label xml:lang=\"en\">Pearson, Melba V.</rdfs:label>\n",
    "  </bf:Agent>\n",
    "  <rdf:Description rdf:about=\"http://id.loc.gov/authorities/names/n78095330\">\n",
    "    <rdfs:label xml:lang=\"en\">United States</rdfs:label>\n",
    "  </rdf:Description>\n",
    "  <bf:Agent rdf:about=\"http://id.loc.gov/authorities/names/n81025672\">\n",
    "    <rdf:type rdf:resource=\"http://id.loc.gov/ontologies/bibframe/Organization\"/>\n",
    "    <rdfs:label xml:lang=\"en\">American Bar Association. Section of Criminal Justice</rdfs:label>\n",
    "  </bf:Agent>\n",
    "  <rdf:Description rdf:about=\"http://id.loc.gov/authorities/subjects/sh2010106596\">\n",
    "    <rdfs:label xml:lang=\"en\">Prosecution--United States--Decision making</rdfs:label>\n",
    "  </rdf:Description>\n",
    "  <rdf:Description rdf:about=\"http://id.loc.gov/authorities/subjects/sh96008615\">\n",
    "    <rdfs:label xml:lang=\"en\">Public prosecutors--United States</rdfs:label>\n",
    "  </rdf:Description>\n",
    "  <rdf:Description rdf:about=\"http://id.loc.gov/vocabulary/classSchemes/ddc23\">\n",
    "    <rdfs:label>Dewey decimal classification and relative index (Dublin, Ohio: OCLC Online Computer\n",
    "      Center), Edition 23</rdfs:label>\n",
    "  </rdf:Description>\n",
    "  <rdf:Description rdf:about=\"http://id.loc.gov/vocabulary/languages/eng\">\n",
    "    <rdfs:label>English</rdfs:label>\n",
    "  </rdf:Description>\n",
    "  <rdf:Description rdf:about=\"http://id.loc.gov/vocabulary/menclvl/f\">\n",
    "    <rdfs:label>full</rdfs:label>\n",
    "  </rdf:Description>\n",
    "  <rdf:Description rdf:about=\"http://id.loc.gov/vocabulary/organizations/cst\">\n",
    "    <rdfs:label xml:lang=\"en\">Stanford University</rdfs:label>\n",
    "  </rdf:Description>\n",
    "  <rdf:Description rdf:about=\"http://id.loc.gov/vocabulary/relators/edt\">\n",
    "    <rdfs:label>Editor</rdfs:label>\n",
    "  </rdf:Description>\n",
    "  <rdf:Description rdf:about=\"http://id.loc.gov/vocabulary/relators/spn\">\n",
    "    <rdfs:label>Sponsor</rdfs:label>\n",
    "  </rdf:Description>\n",
    "  <rdf:Description\n",
    "    rdf:about=\"https://api.stage.sinopia.io/resource/22bd6ade-914e-44ab-aa30-920ff7ae08d6\">\n",
    "    <rdfs:label xml:lang=\"en\">Can they do that?: understanding prosecutorial discretion</rdfs:label>\n",
    "  </rdf:Description>\n",
    "  <bf:Work rdf:about=\"https://api.stage.sinopia.io/resource/2a7fc1ef-a54b-4751-ae20-39c064f7d35b\">\n",
    "    <bf:adminMetadata>\n",
    "      <bf:AdminMetadata>\n",
    "        <bflc:catalogerId>soobum</bflc:catalogerId>\n",
    "        <bflc:encodingLevel rdf:resource=\"http://id.loc.gov/vocabulary/menclvl/f\"/>\n",
    "        <bf:creationDate>2022-04-14</bf:creationDate>\n",
    "        <bf:descriptionAuthentication rdf:resource=\"https://id.loc.gov/vocabulary/marcauthen/pcc\"/>\n",
    "        <bf:descriptionConventions\n",
    "          rdf:resource=\"https://id.loc.gov/vocabulary/descriptionConventions/rda\"/>\n",
    "        <bf:descriptionLanguage rdf:resource=\"https://id.loc.gov/vocabulary/languages/eng\"/>\n",
    "        <bf:source rdf:resource=\"http://id.loc.gov/vocabulary/organizations/cst\"/>\n",
    "      </bf:AdminMetadata>\n",
    "    </bf:adminMetadata>\n",
    "    <bf:classification>\n",
    "      <bf:ClassificationDdc>\n",
    "        <bf:classificationPortion xml:lang=\"en\">345.73</bf:classificationPortion>\n",
    "        <bf:edition rdf:resource=\"http://id.loc.gov/vocabulary/classSchemes/ddc23\"/>\n",
    "      </bf:ClassificationDdc>\n",
    "    </bf:classification>\n",
    "    <bf:classification>\n",
    "      <bf:ClassificationLcc>\n",
    "        <bf:classificationPortion xml:lang=\"en\">KF9640</bf:classificationPortion>\n",
    "        <bf:itemPortion xml:lang=\"en\">.C36 2020</bf:itemPortion>\n",
    "      </bf:ClassificationLcc>\n",
    "    </bf:classification>\n",
    "    <bf:content rdf:resource=\"https://id.loc.gov/vocabulary/contentTypes/txt\"/>\n",
    "    <bf:contribution>\n",
    "      <bf:Contribution>\n",
    "        <bf:agent rdf:resource=\"http://id.loc.gov/authorities/names/n2020011828\"/>\n",
    "        <bf:role rdf:resource=\"http://id.loc.gov/vocabulary/relators/edt\"/>\n",
    "      </bf:Contribution>\n",
    "    </bf:contribution>\n",
    "    <bf:contribution>\n",
    "      <bf:Contribution>\n",
    "        <bf:agent rdf:resource=\"http://id.loc.gov/authorities/names/n81025672\"/>\n",
    "        <bf:role rdf:resource=\"http://id.loc.gov/vocabulary/relators/spn\"/>\n",
    "      </bf:Contribution>\n",
    "    </bf:contribution>\n",
    "    <bf:geographicCoverage rdf:resource=\"http://id.loc.gov/authorities/names/n78095330\"/>\n",
    "    <bf:hasInstance\n",
    "      rdf:resource=\"https://api.stage.sinopia.io/resource/22bd6ade-914e-44ab-aa30-920ff7ae08d6\"/>\n",
    "    <bf:language rdf:resource=\"http://id.loc.gov/vocabulary/languages/eng\"/>\n",
    "    <bf:originDate xml:lang=\"en\">2020</bf:originDate>\n",
    "    <bf:subject rdf:resource=\"http://id.loc.gov/authorities/subjects/sh2010106596\"/>\n",
    "    <bf:subject rdf:resource=\"http://id.loc.gov/authorities/subjects/sh96008615\"/>\n",
    "    <bf:summary>\n",
    "      <bf:Summary>\n",
    "        <rdfs:label xml:lang=\"en\">\"This book is for lawyer and nonlawyer alike-anyone who is\n",
    "          interested in how the criminal justice system works. If you are reading this as a new\n",
    "          prosecutor, you can see where others went wrong as well as what options are available to\n",
    "          you. The most important goal of this book is for the voters to see the what the criminal\n",
    "          justice system really looks like\"-- Provided by the publisher</rdfs:label>\n",
    "      </bf:Summary>\n",
    "    </bf:summary>\n",
    "    <bf:tableOfContents>\n",
    "      <bf:TableOfContents>\n",
    "        <rdfs:label xml:lang=\"en\">Preface / Melba Person -- Understanding prosecutorial discretion :\n",
    "          a 360 degree view from 30,000 feet above / Phyllis Williams Kotey -- Unfettered,\n",
    "          unchecked, unopposed : the need for accountability and limits / Nicole Zayas Fortier -- A\n",
    "          prosecutor's daily dilemma / Ronald Goldstock and Matt Redle -- Removing the white hats :\n",
    "          reducing the power of prosecutors in the courthouse and the statehouse / Molly Gill --\n",
    "          Youthful indiscretion : the structural challenge of inexperienced prosecutors / Fan Li --\n",
    "          Prosecutorial discretion in an age of political activism and technology / Michael Moore\n",
    "          and Brian Carney -- The state doesn't bleed : how unlimited prosecutorial discretion\n",
    "          disempowers victims / Steven J. Kelly -- Prosecutorial discretion and death penalty /\n",
    "          Aramis Donell Ayala -- An argument against unlimited prosecutorial discretion : equal\n",
    "          justice for children / JoNel Newman -- The imperial prosecutor : increasing prosecutorial\n",
    "          power accompanies criminal justice reforms / Nora V. Demleitner -- Conclusion / Melba\n",
    "          Pearson</rdfs:label>\n",
    "      </bf:TableOfContents>\n",
    "    </bf:tableOfContents>\n",
    "    <bf:title>\n",
    "      <bf:Title>\n",
    "        <bf:mainTitle xml:lang=\"en\">Can they do that?</bf:mainTitle>\n",
    "      </bf:Title>\n",
    "    </bf:title>\n",
    "    <sinopia:hasResourceTemplate>pcc:bf2:Monograph:Work</sinopia:hasResourceTemplate>\n",
    "    <rdf:type rdf:resource=\"http://id.loc.gov/ontologies/bibframe/Text\"/>\n",
    "  </bf:Work>\n",
    "  <rdf:Description rdf:about=\"https://id.loc.gov/vocabulary/contentTypes/txt\">\n",
    "    <rdfs:label xml:lang=\"en\">text</rdfs:label>\n",
    "  </rdf:Description>\n",
    "  <rdf:Description rdf:about=\"https://id.loc.gov/vocabulary/descriptionConventions/rda\">\n",
    "    <rdfs:label xml:lang=\"en\">Resource Description and Access</rdfs:label>\n",
    "  </rdf:Description>\n",
    "  <rdf:Description rdf:about=\"https://id.loc.gov/vocabulary/languages/eng\">\n",
    "    <rdfs:label xml:lang=\"en\">English</rdfs:label>\n",
    "  </rdf:Description>\n",
    "  <rdf:Description rdf:about=\"https://id.loc.gov/vocabulary/marcauthen/pcc\">\n",
    "    <rdfs:label xml:lang=\"en\">Program for Cooperative Cataloging</rdfs:label>\n",
    "  </rdf:Description>\n",
    "</rdf:RDF>\"\"\""
   ]
  },
  {
   "cell_type": "code",
   "execution_count": 6,
   "id": "3f2ea4f6-5130-4f03-ac77-239ca3f69de5",
   "metadata": {},
   "outputs": [
    {
     "data": {
      "text/plain": [
       "<Graph identifier=N60a94bf244a148749f0d53c63aa3e7cc (<class 'rdflib.graph.Graph'>)>"
      ]
     },
     "execution_count": 6,
     "metadata": {},
     "output_type": "execute_result"
    }
   ],
   "source": [
    "sinopia_work.parse(data=sinopia_work_xml, format='xml')"
   ]
  },
  {
   "cell_type": "code",
   "execution_count": 9,
   "id": "1c61a6ae-8999-4df4-8b3c-2264d73abf8a",
   "metadata": {},
   "outputs": [],
   "source": [
    "sinopia_work2_result = requests.get(\"https://api.stage.sinopia.io/resource/2a7fc1ef-a54b-4751-ae20-39c064f7d35b\")"
   ]
  },
  {
   "cell_type": "code",
   "execution_count": 23,
   "id": "983c2d0c-dd3c-4c75-b213-68ac122550a0",
   "metadata": {},
   "outputs": [
    {
     "data": {
      "text/plain": [
       "<Graph identifier=N34065146624043179a9d6f5a1ab9f6d7 (<class 'rdflib.graph.Graph'>)>"
      ]
     },
     "execution_count": 23,
     "metadata": {},
     "output_type": "execute_result"
    }
   ],
   "source": [
    "sinopia_work2 = rdflib.Graph()\n",
    "for prefix, url in [\n",
    "    (\"bf\",\"http://id.loc.gov/ontologies/bibframe/\"),\n",
    "    (\"bflc\", \"http://id.loc.gov/ontologies/bflc/\"),\n",
    "    (\"rdfs\", \"http://www.w3.org/2000/01/rdf-schema#\"),\n",
    "    (\"sinopia\",\"http://sinopia.io/vocabulary/\")\n",
    "]:\n",
    "    sinopia_work2.namespace_manager.bind(prefix,url)\n",
    "    \n",
    "\n",
    "sinopia_work2.parse(data=json.dumps(sinopia_work2_result.json()['data']), format='json-ld')"
   ]
  },
  {
   "cell_type": "code",
   "execution_count": 24,
   "id": "e102c010-69b4-406e-a860-df91e21aa384",
   "metadata": {},
   "outputs": [
    {
     "data": {
      "text/plain": [
       "(64, 64)"
      ]
     },
     "execution_count": 24,
     "metadata": {},
     "output_type": "execute_result"
    }
   ],
   "source": [
    "len(sinopia_work), len(sinopia_work2)"
   ]
  },
  {
   "cell_type": "code",
   "execution_count": 14,
   "id": "e03a02d2-1333-4ca3-87e8-a708b58cd78c",
   "metadata": {},
   "outputs": [
    {
     "name": "stdout",
     "output_type": "stream",
     "text": [
      "@prefix bf: <http://id.loc.gov/ontologies/bibframe/> .\n",
      "@prefix bflc: <http://id.loc.gov/ontologies/bflc/> .\n",
      "@prefix rdfs: <http://www.w3.org/2000/01/rdf-schema#> .\n",
      "@prefix sinopia: <http://sinopia.io/vocabulary/> .\n",
      "\n",
      "<https://api.stage.sinopia.io/resource/2a7fc1ef-a54b-4751-ae20-39c064f7d35b> a bf:Text,\n",
      "        bf:Work ;\n",
      "    bf:adminMetadata [ a bf:AdminMetadata ;\n",
      "            bflc:catalogerId \"soobum\" ;\n",
      "            bflc:encodingLevel <http://id.loc.gov/vocabulary/menclvl/f> ;\n",
      "            bf:creationDate \"2022-04-14\" ;\n",
      "            bf:descriptionAuthentication <https://id.loc.gov/vocabulary/marcauthen/pcc> ;\n",
      "            bf:descriptionConventions <https://id.loc.gov/vocabulary/descriptionConventions/rda> ;\n",
      "            bf:descriptionLanguage <https://id.loc.gov/vocabulary/languages/eng> ;\n",
      "            bf:source <http://id.loc.gov/vocabulary/organizations/cst> ] ;\n",
      "    bf:classification [ a bf:ClassificationDdc ;\n",
      "            bf:classificationPortion \"345.73\"@en ;\n",
      "            bf:edition <http://id.loc.gov/vocabulary/classSchemes/ddc23> ],\n",
      "        [ a bf:ClassificationLcc ;\n",
      "            bf:classificationPortion \"KF9640\"@en ;\n",
      "            bf:itemPortion \".C36 2020\"@en ] ;\n",
      "    bf:content <https://id.loc.gov/vocabulary/contentTypes/txt> ;\n",
      "    bf:contribution [ a bf:Contribution ;\n",
      "            bf:agent <http://id.loc.gov/authorities/names/n2020011828> ;\n",
      "            bf:role <http://id.loc.gov/vocabulary/relators/edt> ],\n",
      "        [ a bf:Contribution ;\n",
      "            bf:agent <http://id.loc.gov/authorities/names/n81025672> ;\n",
      "            bf:role <http://id.loc.gov/vocabulary/relators/spn> ] ;\n",
      "    bf:geographicCoverage <http://id.loc.gov/authorities/names/n78095330> ;\n",
      "    bf:hasInstance <https://api.stage.sinopia.io/resource/22bd6ade-914e-44ab-aa30-920ff7ae08d6> ;\n",
      "    bf:language <http://id.loc.gov/vocabulary/languages/eng> ;\n",
      "    bf:originDate \"2020\"@en ;\n",
      "    bf:subject <http://id.loc.gov/authorities/subjects/sh2010106596>,\n",
      "        <http://id.loc.gov/authorities/subjects/sh96008615> ;\n",
      "    bf:summary [ a bf:Summary ;\n",
      "            rdfs:label \"\"\"\"This book is for lawyer and nonlawyer alike-anyone who is\n",
      "          interested in how the criminal justice system works. If you are reading this as a new\n",
      "          prosecutor, you can see where others went wrong as well as what options are available to\n",
      "          you. The most important goal of this book is for the voters to see the what the criminal\n",
      "          justice system really looks like\"-- Provided by the publisher\"\"\"@en ] ;\n",
      "    bf:tableOfContents [ a bf:TableOfContents ;\n",
      "            rdfs:label \"\"\"Preface / Melba Person -- Understanding prosecutorial discretion :\n",
      "          a 360 degree view from 30,000 feet above / Phyllis Williams Kotey -- Unfettered,\n",
      "          unchecked, unopposed : the need for accountability and limits / Nicole Zayas Fortier -- A\n",
      "          prosecutor's daily dilemma / Ronald Goldstock and Matt Redle -- Removing the white hats :\n",
      "          reducing the power of prosecutors in the courthouse and the statehouse / Molly Gill --\n",
      "          Youthful indiscretion : the structural challenge of inexperienced prosecutors / Fan Li --\n",
      "          Prosecutorial discretion in an age of political activism and technology / Michael Moore\n",
      "          and Brian Carney -- The state doesn't bleed : how unlimited prosecutorial discretion\n",
      "          disempowers victims / Steven J. Kelly -- Prosecutorial discretion and death penalty /\n",
      "          Aramis Donell Ayala -- An argument against unlimited prosecutorial discretion : equal\n",
      "          justice for children / JoNel Newman -- The imperial prosecutor : increasing prosecutorial\n",
      "          power accompanies criminal justice reforms / Nora V. Demleitner -- Conclusion / Melba\n",
      "          Pearson\"\"\"@en ] ;\n",
      "    bf:title [ a bf:Title ;\n",
      "            bf:mainTitle \"Can they do that?\"@en ] ;\n",
      "    sinopia:hasResourceTemplate \"pcc:bf2:Monograph:Work\" .\n",
      "\n",
      "<http://id.loc.gov/authorities/names/n2020011828> a bf:Agent,\n",
      "        bf:Person ;\n",
      "    rdfs:label \"Pearson, Melba V.\"@en .\n",
      "\n",
      "<http://id.loc.gov/authorities/names/n78095330> rdfs:label \"United States\"@en .\n",
      "\n",
      "<http://id.loc.gov/authorities/names/n81025672> a bf:Agent,\n",
      "        bf:Organization ;\n",
      "    rdfs:label \"American Bar Association. Section of Criminal Justice\"@en .\n",
      "\n",
      "<http://id.loc.gov/authorities/subjects/sh2010106596> rdfs:label \"Prosecution--United States--Decision making\"@en .\n",
      "\n",
      "<http://id.loc.gov/authorities/subjects/sh96008615> rdfs:label \"Public prosecutors--United States\"@en .\n",
      "\n",
      "<http://id.loc.gov/vocabulary/classSchemes/ddc23> rdfs:label \"\"\"Dewey decimal classification and relative index (Dublin, Ohio: OCLC Online Computer\n",
      "      Center), Edition 23\"\"\" .\n",
      "\n",
      "<http://id.loc.gov/vocabulary/languages/eng> rdfs:label \"English\" .\n",
      "\n",
      "<http://id.loc.gov/vocabulary/menclvl/f> rdfs:label \"full\" .\n",
      "\n",
      "<http://id.loc.gov/vocabulary/organizations/cst> rdfs:label \"Stanford University\"@en .\n",
      "\n",
      "<http://id.loc.gov/vocabulary/relators/edt> rdfs:label \"Editor\" .\n",
      "\n",
      "<http://id.loc.gov/vocabulary/relators/spn> rdfs:label \"Sponsor\" .\n",
      "\n",
      "<https://api.stage.sinopia.io/resource/22bd6ade-914e-44ab-aa30-920ff7ae08d6> rdfs:label \"Can they do that?: understanding prosecutorial discretion\"@en .\n",
      "\n",
      "<https://id.loc.gov/vocabulary/contentTypes/txt> rdfs:label \"text\"@en .\n",
      "\n",
      "<https://id.loc.gov/vocabulary/descriptionConventions/rda> rdfs:label \"Resource Description and Access\"@en .\n",
      "\n",
      "<https://id.loc.gov/vocabulary/languages/eng> rdfs:label \"English\"@en .\n",
      "\n",
      "<https://id.loc.gov/vocabulary/marcauthen/pcc> rdfs:label \"Program for Cooperative Cataloging\"@en .\n",
      "\n",
      "\n"
     ]
    }
   ],
   "source": [
    "print(sinopia_work.serialize(format='turtle'))"
   ]
  },
  {
   "cell_type": "code",
   "execution_count": 25,
   "id": "33306a6a-eb9c-461e-9c9e-ed57b0366196",
   "metadata": {},
   "outputs": [
    {
     "name": "stdout",
     "output_type": "stream",
     "text": [
      "@prefix bf: <http://id.loc.gov/ontologies/bibframe/> .\n",
      "@prefix bflc: <http://id.loc.gov/ontologies/bflc/> .\n",
      "@prefix rdfs: <http://www.w3.org/2000/01/rdf-schema#> .\n",
      "@prefix sinopia: <http://sinopia.io/vocabulary/> .\n",
      "\n",
      "<https://api.stage.sinopia.io/resource/2a7fc1ef-a54b-4751-ae20-39c064f7d35b> a bf:Text,\n",
      "        bf:Work ;\n",
      "    bf:adminMetadata [ a bf:AdminMetadata ;\n",
      "            bflc:catalogerId \"soobum\" ;\n",
      "            bflc:encodingLevel <http://id.loc.gov/vocabulary/menclvl/f> ;\n",
      "            bf:creationDate \"2022-04-14\" ;\n",
      "            bf:descriptionAuthentication <https://id.loc.gov/vocabulary/marcauthen/pcc> ;\n",
      "            bf:descriptionConventions <https://id.loc.gov/vocabulary/descriptionConventions/rda> ;\n",
      "            bf:descriptionLanguage <https://id.loc.gov/vocabulary/languages/eng> ;\n",
      "            bf:source <http://id.loc.gov/vocabulary/organizations/cst> ] ;\n",
      "    bf:classification [ a bf:ClassificationDdc ;\n",
      "            bf:classificationPortion \"345.73\"@en ;\n",
      "            bf:edition <http://id.loc.gov/vocabulary/classSchemes/ddc23> ],\n",
      "        [ a bf:ClassificationLcc ;\n",
      "            bf:classificationPortion \"KF9640\"@en ;\n",
      "            bf:itemPortion \".C36 2020\"@en ] ;\n",
      "    bf:content <https://id.loc.gov/vocabulary/contentTypes/txt> ;\n",
      "    bf:contribution [ a bf:Contribution ;\n",
      "            bf:agent <http://id.loc.gov/authorities/names/n2020011828> ;\n",
      "            bf:role <http://id.loc.gov/vocabulary/relators/edt> ],\n",
      "        [ a bf:Contribution ;\n",
      "            bf:agent <http://id.loc.gov/authorities/names/n81025672> ;\n",
      "            bf:role <http://id.loc.gov/vocabulary/relators/spn> ] ;\n",
      "    bf:geographicCoverage <http://id.loc.gov/authorities/names/n78095330> ;\n",
      "    bf:hasInstance <https://api.stage.sinopia.io/resource/22bd6ade-914e-44ab-aa30-920ff7ae08d6> ;\n",
      "    bf:language <http://id.loc.gov/vocabulary/languages/eng> ;\n",
      "    bf:originDate \"2020\"@en ;\n",
      "    bf:subject <http://id.loc.gov/authorities/subjects/sh2010106596>,\n",
      "        <http://id.loc.gov/authorities/subjects/sh96008615> ;\n",
      "    bf:summary [ a bf:Summary ;\n",
      "            rdfs:label \"\\\"This book is for lawyer and nonlawyer alike-anyone who is interested in how the criminal justice system works. If you are reading this as a new prosecutor, you can see where others went wrong as well as what options are available to you. The most important goal of this book is for the voters to see the what the criminal justice system really looks like\\\"-- Provided by the publisher\"@en ] ;\n",
      "    bf:tableOfContents [ a bf:TableOfContents ;\n",
      "            rdfs:label \"Preface / Melba Person -- Understanding prosecutorial discretion : a 360 degree view from 30,000 feet above / Phyllis Williams Kotey -- Unfettered, unchecked, unopposed : the need for accountability and limits / Nicole Zayas Fortier -- A prosecutor's daily dilemma / Ronald Goldstock and Matt Redle -- Removing the white hats : reducing the power of prosecutors in the courthouse and the statehouse / Molly Gill -- Youthful indiscretion : the structural challenge of inexperienced prosecutors / Fan Li -- Prosecutorial discretion in an age of political activism and technology / Michael Moore and Brian Carney -- The state doesn't bleed : how unlimited prosecutorial discretion disempowers victims / Steven J. Kelly -- Prosecutorial discretion and death penalty / Aramis Donell Ayala -- An argument against unlimited prosecutorial discretion : equal justice for children / JoNel Newman -- The imperial prosecutor : increasing prosecutorial power accompanies criminal justice reforms / Nora V. Demleitner -- Conclusion / Melba Pearson\"@en ] ;\n",
      "    bf:title [ a bf:Title ;\n",
      "            bf:mainTitle \"Can they do that?\"@en ] ;\n",
      "    sinopia:hasResourceTemplate \"pcc:bf2:Monograph:Work\" .\n",
      "\n",
      "<http://id.loc.gov/authorities/names/n2020011828> a bf:Agent,\n",
      "        bf:Person ;\n",
      "    rdfs:label \"Pearson, Melba V.\"@en .\n",
      "\n",
      "<http://id.loc.gov/authorities/names/n78095330> rdfs:label \"United States\"@en .\n",
      "\n",
      "<http://id.loc.gov/authorities/names/n81025672> a bf:Agent,\n",
      "        bf:Organization ;\n",
      "    rdfs:label \"American Bar Association. Section of Criminal Justice\"@en .\n",
      "\n",
      "<http://id.loc.gov/authorities/subjects/sh2010106596> rdfs:label \"Prosecution--United States--Decision making\"@en .\n",
      "\n",
      "<http://id.loc.gov/authorities/subjects/sh96008615> rdfs:label \"Public prosecutors--United States\"@en .\n",
      "\n",
      "<http://id.loc.gov/vocabulary/classSchemes/ddc23> rdfs:label \"Dewey decimal classification and relative index (Dublin, Ohio: OCLC Online Computer Center), Edition 23\" .\n",
      "\n",
      "<http://id.loc.gov/vocabulary/languages/eng> rdfs:label \"English\" .\n",
      "\n",
      "<http://id.loc.gov/vocabulary/menclvl/f> rdfs:label \"full\" .\n",
      "\n",
      "<http://id.loc.gov/vocabulary/organizations/cst> rdfs:label \"Stanford University\"@en .\n",
      "\n",
      "<http://id.loc.gov/vocabulary/relators/edt> rdfs:label \"Editor\" .\n",
      "\n",
      "<http://id.loc.gov/vocabulary/relators/spn> rdfs:label \"Sponsor\" .\n",
      "\n",
      "<https://api.stage.sinopia.io/resource/22bd6ade-914e-44ab-aa30-920ff7ae08d6> rdfs:label \"Can they do that?: understanding prosecutorial discretion\"@en .\n",
      "\n",
      "<https://id.loc.gov/vocabulary/contentTypes/txt> rdfs:label \"text\"@en .\n",
      "\n",
      "<https://id.loc.gov/vocabulary/descriptionConventions/rda> rdfs:label \"Resource Description and Access\"@en .\n",
      "\n",
      "<https://id.loc.gov/vocabulary/languages/eng> rdfs:label \"English\"@en .\n",
      "\n",
      "<https://id.loc.gov/vocabulary/marcauthen/pcc> rdfs:label \"Program for Cooperative Cataloging\"@en .\n",
      "\n",
      "\n"
     ]
    }
   ],
   "source": [
    "print(sinopia_work2.serialize(format=\"turtle\")) "
   ]
  },
  {
   "cell_type": "code",
   "execution_count": 26,
   "id": "967a2315-6b19-4c15-bfdd-ae6fee9b42fd",
   "metadata": {},
   "outputs": [],
   "source": [
    "raw_sinopia_work2_xml = sinopia_work2.serialize(format=\"xml\")"
   ]
  },
  {
   "cell_type": "code",
   "execution_count": 27,
   "id": "3dac0f51-222e-465f-997b-67cc4d9cc36e",
   "metadata": {},
   "outputs": [
    {
     "data": {
      "text/plain": [
       "False"
      ]
     },
     "execution_count": 27,
     "metadata": {},
     "output_type": "execute_result"
    }
   ],
   "source": [
    "sinopia_work_tree = etree."
   ]
  },
  {
   "cell_type": "code",
   "execution_count": null,
   "id": "df266797-7108-4e4d-b6c8-e30f799f113d",
   "metadata": {},
   "outputs": [],
   "source": []
  }
 ],
 "metadata": {
  "kernelspec": {
   "display_name": "Python 3 (ipykernel)",
   "language": "python",
   "name": "python3"
  },
  "language_info": {
   "codemirror_mode": {
    "name": "ipython",
    "version": 3
   },
   "file_extension": ".py",
   "mimetype": "text/x-python",
   "name": "python",
   "nbconvert_exporter": "python",
   "pygments_lexer": "ipython3",
   "version": "3.10.4"
  }
 },
 "nbformat": 4,
 "nbformat_minor": 5
}
